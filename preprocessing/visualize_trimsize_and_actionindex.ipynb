{
 "cells": [
  {
   "cell_type": "code",
   "execution_count": 1,
   "metadata": {},
   "outputs": [],
   "source": [
    "import numpy as np\n",
    "import pandas as pd \n",
    "import matplotlib.pyplot as plt\n",
    "%matplotlib inline \n",
    "import seaborn as sns\n",
    "import math"
   ]
  },
  {
   "cell_type": "code",
   "execution_count": 2,
   "metadata": {},
   "outputs": [
    {
     "data": {
      "text/html": [
       "<div>\n",
       "<style scoped>\n",
       "    .dataframe tbody tr th:only-of-type {\n",
       "        vertical-align: middle;\n",
       "    }\n",
       "\n",
       "    .dataframe tbody tr th {\n",
       "        vertical-align: top;\n",
       "    }\n",
       "\n",
       "    .dataframe thead th {\n",
       "        text-align: right;\n",
       "    }\n",
       "</style>\n",
       "<table border=\"1\" class=\"dataframe\">\n",
       "  <thead>\n",
       "    <tr style=\"text-align: right;\">\n",
       "      <th></th>\n",
       "      <th>0</th>\n",
       "      <th>1</th>\n",
       "      <th>2</th>\n",
       "      <th>3</th>\n",
       "      <th>4</th>\n",
       "      <th>5</th>\n",
       "      <th>6</th>\n",
       "      <th>7</th>\n",
       "      <th>8</th>\n",
       "      <th>9</th>\n",
       "      <th>...</th>\n",
       "      <th>1878</th>\n",
       "      <th>1879</th>\n",
       "      <th>1880</th>\n",
       "      <th>episode_type</th>\n",
       "      <th>episode_num</th>\n",
       "      <th>action_index</th>\n",
       "      <th>trimmed_data</th>\n",
       "      <th>is_corrupt</th>\n",
       "      <th>trial_type</th>\n",
       "      <th>trial_num</th>\n",
       "    </tr>\n",
       "  </thead>\n",
       "  <tbody>\n",
       "    <tr>\n",
       "      <th>count</th>\n",
       "      <td>360.000000</td>\n",
       "      <td>360.000000</td>\n",
       "      <td>360.000000</td>\n",
       "      <td>360.000000</td>\n",
       "      <td>360.000000</td>\n",
       "      <td>360.000000</td>\n",
       "      <td>360.000000</td>\n",
       "      <td>360.000000</td>\n",
       "      <td>360.000000</td>\n",
       "      <td>360.000000</td>\n",
       "      <td>...</td>\n",
       "      <td>358.000000</td>\n",
       "      <td>358.000000</td>\n",
       "      <td>357.000000</td>\n",
       "      <td>360.000000</td>\n",
       "      <td>360.000000</td>\n",
       "      <td>360.000000</td>\n",
       "      <td>360.000000</td>\n",
       "      <td>360.000000</td>\n",
       "      <td>360.000000</td>\n",
       "      <td>360.000000</td>\n",
       "    </tr>\n",
       "    <tr>\n",
       "      <th>mean</th>\n",
       "      <td>50.213889</td>\n",
       "      <td>51.280556</td>\n",
       "      <td>52.586111</td>\n",
       "      <td>55.669444</td>\n",
       "      <td>57.755556</td>\n",
       "      <td>59.186111</td>\n",
       "      <td>59.777778</td>\n",
       "      <td>59.408333</td>\n",
       "      <td>59.102778</td>\n",
       "      <td>58.433333</td>\n",
       "      <td>...</td>\n",
       "      <td>60.488827</td>\n",
       "      <td>59.689944</td>\n",
       "      <td>58.294118</td>\n",
       "      <td>1.566667</td>\n",
       "      <td>14.500000</td>\n",
       "      <td>1024.833333</td>\n",
       "      <td>33.483333</td>\n",
       "      <td>0.008333</td>\n",
       "      <td>0.500000</td>\n",
       "      <td>6.500000</td>\n",
       "    </tr>\n",
       "    <tr>\n",
       "      <th>std</th>\n",
       "      <td>60.706668</td>\n",
       "      <td>58.774927</td>\n",
       "      <td>58.882285</td>\n",
       "      <td>57.506877</td>\n",
       "      <td>61.145939</td>\n",
       "      <td>65.977934</td>\n",
       "      <td>67.389489</td>\n",
       "      <td>67.973839</td>\n",
       "      <td>64.790410</td>\n",
       "      <td>62.145987</td>\n",
       "      <td>...</td>\n",
       "      <td>61.316268</td>\n",
       "      <td>60.409726</td>\n",
       "      <td>59.188285</td>\n",
       "      <td>1.226904</td>\n",
       "      <td>8.667488</td>\n",
       "      <td>7.817558</td>\n",
       "      <td>18.297290</td>\n",
       "      <td>0.091032</td>\n",
       "      <td>0.500696</td>\n",
       "      <td>3.456857</td>\n",
       "    </tr>\n",
       "    <tr>\n",
       "      <th>min</th>\n",
       "      <td>-221.000000</td>\n",
       "      <td>-235.000000</td>\n",
       "      <td>-221.000000</td>\n",
       "      <td>-153.000000</td>\n",
       "      <td>-166.000000</td>\n",
       "      <td>-232.000000</td>\n",
       "      <td>-278.000000</td>\n",
       "      <td>-316.000000</td>\n",
       "      <td>-309.000000</td>\n",
       "      <td>-268.000000</td>\n",
       "      <td>...</td>\n",
       "      <td>-118.000000</td>\n",
       "      <td>-136.000000</td>\n",
       "      <td>-182.000000</td>\n",
       "      <td>0.000000</td>\n",
       "      <td>0.000000</td>\n",
       "      <td>987.000000</td>\n",
       "      <td>-273.000000</td>\n",
       "      <td>0.000000</td>\n",
       "      <td>0.000000</td>\n",
       "      <td>1.000000</td>\n",
       "    </tr>\n",
       "    <tr>\n",
       "      <th>25%</th>\n",
       "      <td>0.000000</td>\n",
       "      <td>0.000000</td>\n",
       "      <td>1.000000</td>\n",
       "      <td>15.250000</td>\n",
       "      <td>12.750000</td>\n",
       "      <td>11.750000</td>\n",
       "      <td>10.750000</td>\n",
       "      <td>16.000000</td>\n",
       "      <td>18.750000</td>\n",
       "      <td>12.000000</td>\n",
       "      <td>...</td>\n",
       "      <td>24.250000</td>\n",
       "      <td>26.250000</td>\n",
       "      <td>25.000000</td>\n",
       "      <td>0.000000</td>\n",
       "      <td>7.000000</td>\n",
       "      <td>1024.000000</td>\n",
       "      <td>34.000000</td>\n",
       "      <td>0.000000</td>\n",
       "      <td>0.000000</td>\n",
       "      <td>3.750000</td>\n",
       "    </tr>\n",
       "    <tr>\n",
       "      <th>50%</th>\n",
       "      <td>49.000000</td>\n",
       "      <td>52.500000</td>\n",
       "      <td>54.500000</td>\n",
       "      <td>56.000000</td>\n",
       "      <td>56.000000</td>\n",
       "      <td>59.500000</td>\n",
       "      <td>57.500000</td>\n",
       "      <td>58.000000</td>\n",
       "      <td>58.000000</td>\n",
       "      <td>57.000000</td>\n",
       "      <td>...</td>\n",
       "      <td>55.500000</td>\n",
       "      <td>54.000000</td>\n",
       "      <td>54.000000</td>\n",
       "      <td>2.000000</td>\n",
       "      <td>14.500000</td>\n",
       "      <td>1025.000000</td>\n",
       "      <td>34.000000</td>\n",
       "      <td>0.000000</td>\n",
       "      <td>0.500000</td>\n",
       "      <td>6.500000</td>\n",
       "    </tr>\n",
       "    <tr>\n",
       "      <th>75%</th>\n",
       "      <td>86.000000</td>\n",
       "      <td>91.000000</td>\n",
       "      <td>88.250000</td>\n",
       "      <td>92.000000</td>\n",
       "      <td>98.000000</td>\n",
       "      <td>100.000000</td>\n",
       "      <td>93.750000</td>\n",
       "      <td>91.500000</td>\n",
       "      <td>96.000000</td>\n",
       "      <td>98.250000</td>\n",
       "      <td>...</td>\n",
       "      <td>90.000000</td>\n",
       "      <td>90.750000</td>\n",
       "      <td>86.000000</td>\n",
       "      <td>3.000000</td>\n",
       "      <td>22.000000</td>\n",
       "      <td>1025.000000</td>\n",
       "      <td>38.000000</td>\n",
       "      <td>0.000000</td>\n",
       "      <td>1.000000</td>\n",
       "      <td>9.250000</td>\n",
       "    </tr>\n",
       "    <tr>\n",
       "      <th>max</th>\n",
       "      <td>323.000000</td>\n",
       "      <td>312.000000</td>\n",
       "      <td>246.000000</td>\n",
       "      <td>282.000000</td>\n",
       "      <td>404.000000</td>\n",
       "      <td>438.000000</td>\n",
       "      <td>385.000000</td>\n",
       "      <td>340.000000</td>\n",
       "      <td>285.000000</td>\n",
       "      <td>299.000000</td>\n",
       "      <td>...</td>\n",
       "      <td>393.000000</td>\n",
       "      <td>369.000000</td>\n",
       "      <td>340.000000</td>\n",
       "      <td>3.000000</td>\n",
       "      <td>29.000000</td>\n",
       "      <td>1049.000000</td>\n",
       "      <td>76.000000</td>\n",
       "      <td>1.000000</td>\n",
       "      <td>1.000000</td>\n",
       "      <td>12.000000</td>\n",
       "    </tr>\n",
       "  </tbody>\n",
       "</table>\n",
       "<p>8 rows × 1888 columns</p>\n",
       "</div>"
      ],
      "text/plain": [
       "                0           1           2           3           4           5  \\\n",
       "count  360.000000  360.000000  360.000000  360.000000  360.000000  360.000000   \n",
       "mean    50.213889   51.280556   52.586111   55.669444   57.755556   59.186111   \n",
       "std     60.706668   58.774927   58.882285   57.506877   61.145939   65.977934   \n",
       "min   -221.000000 -235.000000 -221.000000 -153.000000 -166.000000 -232.000000   \n",
       "25%      0.000000    0.000000    1.000000   15.250000   12.750000   11.750000   \n",
       "50%     49.000000   52.500000   54.500000   56.000000   56.000000   59.500000   \n",
       "75%     86.000000   91.000000   88.250000   92.000000   98.000000  100.000000   \n",
       "max    323.000000  312.000000  246.000000  282.000000  404.000000  438.000000   \n",
       "\n",
       "                6           7           8           9     ...            1878  \\\n",
       "count  360.000000  360.000000  360.000000  360.000000     ...      358.000000   \n",
       "mean    59.777778   59.408333   59.102778   58.433333     ...       60.488827   \n",
       "std     67.389489   67.973839   64.790410   62.145987     ...       61.316268   \n",
       "min   -278.000000 -316.000000 -309.000000 -268.000000     ...     -118.000000   \n",
       "25%     10.750000   16.000000   18.750000   12.000000     ...       24.250000   \n",
       "50%     57.500000   58.000000   58.000000   57.000000     ...       55.500000   \n",
       "75%     93.750000   91.500000   96.000000   98.250000     ...       90.000000   \n",
       "max    385.000000  340.000000  285.000000  299.000000     ...      393.000000   \n",
       "\n",
       "             1879        1880  episode_type  episode_num  action_index  \\\n",
       "count  358.000000  357.000000    360.000000   360.000000    360.000000   \n",
       "mean    59.689944   58.294118      1.566667    14.500000   1024.833333   \n",
       "std     60.409726   59.188285      1.226904     8.667488      7.817558   \n",
       "min   -136.000000 -182.000000      0.000000     0.000000    987.000000   \n",
       "25%     26.250000   25.000000      0.000000     7.000000   1024.000000   \n",
       "50%     54.000000   54.000000      2.000000    14.500000   1025.000000   \n",
       "75%     90.750000   86.000000      3.000000    22.000000   1025.000000   \n",
       "max    369.000000  340.000000      3.000000    29.000000   1049.000000   \n",
       "\n",
       "       trimmed_data  is_corrupt  trial_type   trial_num  \n",
       "count    360.000000  360.000000  360.000000  360.000000  \n",
       "mean      33.483333    0.008333    0.500000    6.500000  \n",
       "std       18.297290    0.091032    0.500696    3.456857  \n",
       "min     -273.000000    0.000000    0.000000    1.000000  \n",
       "25%       34.000000    0.000000    0.000000    3.750000  \n",
       "50%       34.000000    0.000000    0.500000    6.500000  \n",
       "75%       38.000000    0.000000    1.000000    9.250000  \n",
       "max       76.000000    1.000000    1.000000   12.000000  \n",
       "\n",
       "[8 rows x 1888 columns]"
      ]
     },
     "execution_count": 2,
     "metadata": {},
     "output_type": "execute_result"
    }
   ],
   "source": [
    "df = pd.read_pickle(\"data/data__6.pkl\")\n",
    "df.describe()"
   ]
  },
  {
   "cell_type": "markdown",
   "metadata": {},
   "source": [
    "# action_index distribution"
   ]
  },
  {
   "cell_type": "code",
   "execution_count": 3,
   "metadata": {},
   "outputs": [
    {
     "data": {
      "text/plain": [
       "<matplotlib.axes._subplots.AxesSubplot at 0x1a13d69c50>"
      ]
     },
     "execution_count": 3,
     "metadata": {},
     "output_type": "execute_result"
    },
    {
     "data": {
      "image/png": "[encoded data removed]",
      "text/plain": [
       "<matplotlib.figure.Figure at 0x1a13d69630>"
      ]
     },
     "metadata": {},
     "output_type": "display_data"
    }
   ],
   "source": [
    "figure_dimension = (30,10)\n",
    "fig, ax = plt.subplots(figsize=figure_dimension)\n",
    "sns.distplot(df[\"action_index\"].values, ax=ax, bins=150)"
   ]
  },
  {
   "cell_type": "raw",
   "metadata": {},
   "source": [
    "The action_index appears to have some strange tri-modal distribution. This doesn't seem to be an issue, however, because the outer modes seem small and their means are only shifted by ~10 readings or about .02 seconds from the center: 1024. This is probably negligible."
   ]
  },
  {
   "cell_type": "markdown",
   "metadata": {},
   "source": [
    "# trimmed_data distribution"
   ]
  },
  {
   "cell_type": "code",
   "execution_count": 4,
   "metadata": {},
   "outputs": [
    {
     "data": {
      "text/plain": [
       "<matplotlib.axes._subplots.AxesSubplot at 0x1a15b2cef0>"
      ]
     },
     "execution_count": 4,
     "metadata": {},
     "output_type": "execute_result"
    },
    {
     "data": {
      "image/png": "[encoded data removed]",
      "text/plain": [
       "<matplotlib.figure.Figure at 0x1a15b05cf8>"
      ]
     },
     "metadata": {},
     "output_type": "display_data"
    }
   ],
   "source": [
    "fig1, ax1 = plt.subplots(figsize=figure_dimension)\n",
    "trimmed_data = [i for i in df[\"trimmed_data\"].values if not math.isnan(i)]\n",
    "sns.distplot(trimmed_data, ax=ax1, bins=250)"
   ]
  },
  {
   "cell_type": "code",
   "execution_count": 6,
   "metadata": {},
   "outputs": [
    {
     "data": {
      "text/plain": [
       "33.483333333333334"
      ]
     },
     "execution_count": 6,
     "metadata": {},
     "output_type": "execute_result"
    }
   ],
   "source": [
    "np.mean(trimmed_data)"
   ]
  },
  {
   "cell_type": "raw",
   "metadata": {},
   "source": [
    "Only about 33 readings are trimmed from the episode data, on average. This is good"
   ]
  },
  {
   "cell_type": "markdown",
   "metadata": {},
   "source": [
    "# percentage of trimmed data below 0 "
   ]
  },
  {
   "cell_type": "code",
   "execution_count": 5,
   "metadata": {},
   "outputs": [
    {
     "data": {
      "text/plain": [
       "0.008333333333333333"
      ]
     },
     "execution_count": 5,
     "metadata": {},
     "output_type": "execute_result"
    }
   ],
   "source": [
    "len([i for i in range(len(trimmed_data)) if trimmed_data[i]<0])/len(trimmed_data)"
   ]
  },
  {
   "cell_type": "code",
   "execution_count": null,
   "metadata": {},
   "outputs": [],
   "source": []
  }
 ],
 "metadata": {
  "kernelspec": {
   "display_name": "Python 3",
   "language": "python",
   "name": "python3"
  },
  "language_info": {
   "codemirror_mode": {
    "name": "ipython",
    "version": 3
   },
   "file_extension": ".py",
   "mimetype": "text/x-python",
   "name": "python",
   "nbconvert_exporter": "python",
   "pygments_lexer": "ipython3",
   "version": "3.5.2"
  },
  "widgets": {
   "state": {},
   "version": "1.1.2"
  }
 },
 "nbformat": 4,
 "nbformat_minor": 2
}
