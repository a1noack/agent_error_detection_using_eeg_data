{
 "cells": [
  {
   "cell_type": "code",
   "execution_count": 37,
   "metadata": {},
   "outputs": [],
   "source": [
    "import math, numpy as np\n",
    "import scipy.stats as st"
   ]
  },
  {
   "cell_type": "code",
   "execution_count": 38,
   "metadata": {},
   "outputs": [],
   "source": [
    "win_freqs = [\n",
    "    .775, \n",
    "    .557,    \n",
    "    .607,    \n",
    "    .534,\n",
    "    .579,\n",
    "    .522,\n",
    "    .660,\n",
    "    .650,\n",
    "    .623,\n",
    "    .622]\n",
    "\n",
    "eval_accs = [\n",
    "    .567,\n",
    "    .644,\n",
    "    .645,\n",
    "    .619,\n",
    "    .517,\n",
    "    .666,\n",
    "    .597,\n",
    "    .473,\n",
    "    .500,\n",
    "    .562]\n",
    "\n",
    "ps = []\n",
    "stds = []\n",
    "z_scores = []\n",
    "p_values = []"
   ]
  },
  {
   "cell_type": "code",
   "execution_count": 39,
   "metadata": {},
   "outputs": [],
   "source": [
    "def get_p(win_freq):\n",
    "    return win_freq*.61 + (1-win_freq)*.39"
   ]
  },
  {
   "cell_type": "code",
   "execution_count": 40,
   "metadata": {},
   "outputs": [],
   "source": [
    "def get_std(p):\n",
    "    return math.sqrt((p*(1-p))/30)"
   ]
  },
  {
   "cell_type": "code",
   "execution_count": 41,
   "metadata": {},
   "outputs": [],
   "source": [
    "for ppant in range(10):\n",
    "    win_freq = win_freqs[ppant]\n",
    "    p = get_p(win_freq)\n",
    "    \n",
    "    ps.append(p)\n",
    "    \n",
    "    std = get_std(p)\n",
    "    stds.append(std)\n",
    "    \n",
    "    p_ = eval_accs[ppant]\n",
    "    \n",
    "    z_score = (p_ - p)/std\n",
    "    \n",
    "    z_scores.append(z_score)\n",
    "    \n",
    "    p_value = 1 - st.norm.cdf(z_score)\n",
    "    \n",
    "    p_values.append(p_value)\n",
    "    "
   ]
  },
  {
   "cell_type": "code",
   "execution_count": 45,
   "metadata": {},
   "outputs": [
    {
     "name": "stdout",
     "output_type": "stream",
     "text": [
      "1 (0.5605, 0.567, 0.47140800246127956)\n",
      "2 (0.51254, 0.644, 0.07485942306027793)\n",
      "3 (0.52354, 0.645, 0.09142932740337173)\n",
      "4 (0.50748, 0.619, 0.11089596200028917)\n",
      "5 (0.51738, 0.517, 0.50166167298060382)\n",
      "6 (0.50484, 0.666, 0.038739711727790671)\n",
      "7 (0.5352, 0.597, 0.24867381699523239)\n",
      "8 (0.533, 0.473, 0.74495684021904984)\n",
      "9 (0.52706, 0.5, 0.61671426353640657)\n",
      "10 (0.52684, 0.562, 0.34985401333135857)\n"
     ]
    }
   ],
   "source": [
    "results = list(zip(ps, eval_accs, p_values))\n",
    "\n",
    "for i in range(len(p_values)):\n",
    "    print(i+1, results[i])"
   ]
  },
  {
   "cell_type": "code",
   "execution_count": 43,
   "metadata": {},
   "outputs": [],
   "source": [
    "ave = np.mean(p_values)"
   ]
  },
  {
   "cell_type": "code",
   "execution_count": 44,
   "metadata": {},
   "outputs": [
    {
     "data": {
      "text/plain": [
       "0.32491930337156605"
      ]
     },
     "execution_count": 44,
     "metadata": {},
     "output_type": "execute_result"
    }
   ],
   "source": [
    "ave"
   ]
  },
  {
   "cell_type": "code",
   "execution_count": null,
   "metadata": {},
   "outputs": [],
   "source": []
  }
 ],
 "metadata": {
  "kernelspec": {
   "display_name": "Python 3",
   "language": "python",
   "name": "python3"
  },
  "language_info": {
   "codemirror_mode": {
    "name": "ipython",
    "version": 3
   },
   "file_extension": ".py",
   "mimetype": "text/x-python",
   "name": "python",
   "nbconvert_exporter": "python",
   "pygments_lexer": "ipython3",
   "version": "3.5.2"
  },
  "widgets": {
   "state": {},
   "version": "1.1.2"
  }
 },
 "nbformat": 4,
 "nbformat_minor": 2
}
