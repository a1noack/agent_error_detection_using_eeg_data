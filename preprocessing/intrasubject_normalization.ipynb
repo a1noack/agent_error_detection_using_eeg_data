{
 "cells": [
  {
   "cell_type": "code",
   "execution_count": 14,
   "metadata": {},
   "outputs": [],
   "source": [
    "import pandas as pd"
   ]
  },
  {
   "cell_type": "code",
   "execution_count": 23,
   "metadata": {},
   "outputs": [],
   "source": [
    "df = pd.read_pickle(\"../data/data_100hz.pkl\")\n",
    "\n",
    "labels = [\"episode_type\",\"trial_type\",\"trial_num\",\n",
    "          \"episode_num\",\"is_corrupt\",\"action_index\",\n",
    "          \"trimmed_data\",\"subject_num\",\"left\",\"win\"]"
   ]
  },
  {
   "cell_type": "markdown",
   "metadata": {},
   "source": [
    "### calculate the normed data within each subject and add to placeholder dataframe"
   ]
  },
  {
   "cell_type": "code",
   "execution_count": 24,
   "metadata": {
    "scrolled": true
   },
   "outputs": [
    {
     "name": "stdout",
     "output_type": "stream",
     "text": [
      "-3.63797880709e-15 423.5216\n",
      "-7.5412269022e-15 249.082133333\n",
      "-1.25055521494e-15 565.170666667\n",
      "7.20016638904e-16 884.174933333\n",
      "-2.57690165502e-15 860.865066667\n",
      "2.245315045e-15 297.186666667\n",
      "-1.8095155004e-15 385.365333333\n",
      "1.59730006999e-14 266.684266667\n",
      "9.17073824288e-15 759.372266667\n",
      "1.30171429191e-14 390.008\n"
     ]
    }
   ],
   "source": [
    "#new dataframe to hold normalized data\n",
    "df_ = pd.DataFrame()\n",
    "for sbj in range(1,11):\n",
    "    #break original df into dfs containing eeg readings and labels on a per subject basis\n",
    "    df_sbj = df[df.subject_num == sbj]\n",
    "    df_sbj_eeg = df_sbj.drop(labels, axis=1)\n",
    "    df_sbj_labels = df_sbj[labels]\n",
    "    \n",
    "    #normalize the eeg readings within each subject\n",
    "#     df_sbj_eeg_normed = (df_sbj_eeg - df_sbj_eeg.mean())/(df_sbj_eeg.max() - df_sbj_eeg.min())\n",
    "    df_sbj_eeg_normed = df_sbj_eeg - df_sbj_eeg.mean().mean()\n",
    "    \n",
    "    #print stats to ensure normalization occurred. each iteration should print ~0 and 1.0\n",
    "    print(df_sbj_eeg_normed.mean().mean(), (df_sbj_eeg_normed.max() - df_sbj_eeg_normed.min()).mean())\n",
    "    \n",
    "    #join the normalized eeg data with the original labels\n",
    "    df_sbj_normed = df_sbj_eeg_normed.join(df_sbj_labels)\n",
    "    \n",
    "    #append the normalized and relabeled dataframe for each subject to the new df_\n",
    "    df_ = df_.append(df_sbj_normed, ignore_index=True)"
   ]
  },
  {
   "cell_type": "code",
   "execution_count": 25,
   "metadata": {},
   "outputs": [],
   "source": [
    "# df_.to_pickle(\"../data/data_100hz_intrasubject_scaled.pkl\")"
   ]
  }
 ],
 "metadata": {
  "kernelspec": {
   "display_name": "Python 3",
   "language": "python",
   "name": "python3"
  },
  "language_info": {
   "codemirror_mode": {
    "name": "ipython",
    "version": 3
   },
   "file_extension": ".py",
   "mimetype": "text/x-python",
   "name": "python",
   "nbconvert_exporter": "python",
   "pygments_lexer": "ipython3",
   "version": "3.5.2"
  },
  "widgets": {
   "state": {},
   "version": "1.1.2"
  }
 },
 "nbformat": 4,
 "nbformat_minor": 2
}
